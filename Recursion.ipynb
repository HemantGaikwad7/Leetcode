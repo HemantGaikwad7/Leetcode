{
  "nbformat": 4,
  "nbformat_minor": 0,
  "metadata": {
    "colab": {
      "provenance": []
    },
    "kernelspec": {
      "name": "python3",
      "display_name": "Python 3"
    },
    "language_info": {
      "name": "python"
    }
  },
  "cells": [
    {
      "cell_type": "markdown",
      "source": [
        "# Parameter\n",
        "Print 1 to n in reverse order"
      ],
      "metadata": {
        "id": "rdnCSNDb-h7f"
      }
    },
    {
      "cell_type": "code",
      "execution_count": 2,
      "metadata": {
        "colab": {
          "base_uri": "https://localhost:8080/"
        },
        "id": "vwXMd5_3-H_m",
        "outputId": "3945183c-dadb-4fc1-a58f-6c9cc93fc9d5"
      },
      "outputs": [
        {
          "output_type": "stream",
          "name": "stdout",
          "text": [
            "5\n",
            "4\n",
            "3\n",
            "2\n",
            "1\n"
          ]
        }
      ],
      "source": [
        "def f(i,N):\n",
        "  if i >N:\n",
        "    return\n",
        "  f(i+1,N)\n",
        "  print(i)\n",
        "f(1,5)"
      ]
    },
    {
      "cell_type": "markdown",
      "source": [
        "Sum of numbers"
      ],
      "metadata": {
        "id": "CT6kriUE-urw"
      }
    },
    {
      "cell_type": "code",
      "source": [
        "def f(n):\n",
        "  if n<1:\n",
        "    return 0\n",
        "  return f(n-1)+n\n",
        "print(f(3))"
      ],
      "metadata": {
        "colab": {
          "base_uri": "https://localhost:8080/"
        },
        "id": "Ucjt091--Q5a",
        "outputId": "458f0ca2-a9d7-4121-8c8c-16ef73c519fa"
      },
      "execution_count": 3,
      "outputs": [
        {
          "output_type": "stream",
          "name": "stdout",
          "text": [
            "6\n"
          ]
        }
      ]
    },
    {
      "cell_type": "markdown",
      "source": [
        "Check palindrom"
      ],
      "metadata": {
        "id": "xfc7KUue-xFP"
      }
    },
    {
      "cell_type": "code",
      "source": [
        "s='MADAM'\n",
        "n=len(s)\n",
        "def f(i):\n",
        "  if i>=n//2:\n",
        "    return True\n",
        "  if s[i]!=s[n-i-1]:\n",
        "    return False\n",
        "  return f(i+1)\n",
        "print(f(0))"
      ],
      "metadata": {
        "colab": {
          "base_uri": "https://localhost:8080/"
        },
        "id": "czKVFz58-Sg3",
        "outputId": "df5a594a-1512-4ad9-ef81-ceddd6ab9e28"
      },
      "execution_count": 4,
      "outputs": [
        {
          "output_type": "stream",
          "name": "stdout",
          "text": [
            "True\n"
          ]
        }
      ]
    },
    {
      "cell_type": "markdown",
      "source": [
        "## Subsequence\n",
        "Subsequence is contigeous/ Non contigious sequence wich follows the order"
      ],
      "metadata": {
        "id": "M_Vmsj9q-zH_"
      }
    },
    {
      "cell_type": "code",
      "source": [
        "nums=[3,1,2]\n",
        "res=[]\n",
        "def f(i,subarray):\n",
        "  if i ==len(nums):\n",
        "    res.append(subarray[::])\n",
        "    return\n",
        "  subarray.append(nums[i])\n",
        "  f(i+1,subarray)\n",
        "  subarray.pop()\n",
        "  f(i+1,subarray)\n",
        "\n",
        "f(0,[])\n",
        "print(res)"
      ],
      "metadata": {
        "colab": {
          "base_uri": "https://localhost:8080/"
        },
        "id": "_5GLcli_-UQ-",
        "outputId": "f537dffa-334c-42bd-b698-c2bbdce3a234"
      },
      "execution_count": 5,
      "outputs": [
        {
          "output_type": "stream",
          "name": "stdout",
          "text": [
            "[[3, 1, 2], [3, 1], [3, 2], [3], [1, 2], [1], [2], []]\n"
          ]
        }
      ]
    },
    {
      "cell_type": "code",
      "source": [
        "arr=[1,2,1]\n",
        "sum=2\n",
        "res=[]\n",
        "def f(i,sub,s):\n",
        "  if s==sum:\n",
        "    res.append(sub.copy())\n",
        "    return\n",
        "  if i >=len(arr) or s>sum:\n",
        "    return\n",
        "  sub.append(arr[i])\n",
        "  s+=arr[i]\n",
        "  f(i+1,sub,s)\n",
        "  sub.pop()\n",
        "  s-=arr[i]\n",
        "  f(i+1,sub,s)\n",
        "f(0,[],0)\n",
        "print(res)"
      ],
      "metadata": {
        "colab": {
          "base_uri": "https://localhost:8080/"
        },
        "id": "AVPYZSSM-WA5",
        "outputId": "35bfb911-4f2c-4565-ea29-4eb98959bcb1"
      },
      "execution_count": 6,
      "outputs": [
        {
          "output_type": "stream",
          "name": "stdout",
          "text": [
            "[[1, 1], [2]]\n"
          ]
        }
      ]
    },
    {
      "cell_type": "code",
      "source": [
        "arr=[1,2,1]\n",
        "sum=2\n",
        "res=[]\n",
        "def f(i,sub,s):\n",
        "  if i==len(arr):\n",
        "    if s==sum :\n",
        "      res.append(sub.copy())\n",
        "    return\n",
        "\n",
        "  sub.append(arr[i])\n",
        "  s+=arr[i]\n",
        "  f(i+1,sub,s)\n",
        "  sub.pop()\n",
        "  s-=arr[i]\n",
        "  f(i+1,sub,s)\n",
        "f(0,[],0)\n",
        "print(res)"
      ],
      "metadata": {
        "colab": {
          "base_uri": "https://localhost:8080/"
        },
        "id": "0dvnDuFv-X94",
        "outputId": "ad5890e8-6a4a-4802-9dce-7029cec5c55f"
      },
      "execution_count": 7,
      "outputs": [
        {
          "output_type": "stream",
          "name": "stdout",
          "text": [
            "[[1, 1], [2]]\n"
          ]
        }
      ]
    },
    {
      "cell_type": "markdown",
      "source": [
        "Return True/False and avoid further recursions"
      ],
      "metadata": {
        "id": "N2wHMbs1_E9f"
      }
    },
    {
      "cell_type": "code",
      "source": [
        "arr=[1,2,1]\n",
        "sum=2\n",
        "res=[]\n",
        "def f(i,sub,s):\n",
        "  if i==len(arr):\n",
        "    if s==sum :\n",
        "      res.append(sub.copy())\n",
        "      return True\n",
        "    return False\n",
        "\n",
        "  sub.append(arr[i])\n",
        "  s+=arr[i]\n",
        "  if f(i+1,sub,s):return True\n",
        "  sub.pop()\n",
        "  s-=arr[i]\n",
        "  if f(i+1,sub,s):return True\n",
        "  return False\n",
        "print(f(0,[],0))\n",
        "print(res)"
      ],
      "metadata": {
        "colab": {
          "base_uri": "https://localhost:8080/"
        },
        "id": "UyzU7RWy-Zpx",
        "outputId": "5ecf1059-9da8-4e18-d82e-b994bc3f7ebd"
      },
      "execution_count": 8,
      "outputs": [
        {
          "output_type": "stream",
          "name": "stdout",
          "text": [
            "True\n",
            "[[1, 1]]\n"
          ]
        }
      ]
    },
    {
      "cell_type": "markdown",
      "source": [
        "Count the subsequences with sum=k then\n",
        "def f():\n",
        "return 1\n",
        "return 0\n",
        "left=f()\n",
        "right=f()\n",
        "return left+right"
      ],
      "metadata": {
        "id": "PbfGVeRF_MvL"
      }
    },
    {
      "cell_type": "code",
      "source": [
        "arr=[1,2,1]\n",
        "sum=2\n",
        "res=[]\n",
        "def f(i,sub,s):\n",
        "  if i==len(arr):\n",
        "    if s==sum :\n",
        "      res.append(sub.copy())\n",
        "      return 1\n",
        "    return 0\n",
        "\n",
        "  sub.append(arr[i])\n",
        "  s+=arr[i]\n",
        "  left= f(i+1,sub,s)\n",
        "  sub.pop()\n",
        "  s-=arr[i]\n",
        "  right= f(i+1,sub,s)\n",
        "  return left+right\n",
        "print(f(0,[],0))\n",
        "print(res)"
      ],
      "metadata": {
        "colab": {
          "base_uri": "https://localhost:8080/"
        },
        "id": "g0uAkolX-br_",
        "outputId": "096039ee-3364-4d48-eb2e-19aee935edca"
      },
      "execution_count": 9,
      "outputs": [
        {
          "output_type": "stream",
          "name": "stdout",
          "text": [
            "2\n",
            "[[1, 1], [2]]\n"
          ]
        }
      ]
    }
  ]
}